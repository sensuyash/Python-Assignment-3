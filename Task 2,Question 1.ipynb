{
 "cells": [
  {
   "cell_type": "code",
   "execution_count": 39,
   "metadata": {},
   "outputs": [
    {
     "name": "stdout",
     "output_type": "stream",
     "text": [
      "The input array is: [5 6 7 8 9] \n",
      "\n",
      "Vander matrix of the input array in decreasing order of powers:\n",
      "\n",
      " [[ 625  125   25    5    1]\n",
      " [1296  216   36    6    1]\n",
      " [2401  343   49    7    1]\n",
      " [4096  512   64    8    1]\n",
      " [6561  729   81    9    1]] \n",
      "\n",
      "Vander matrix of the input array in increasing order of powers:\n",
      "\n",
      " [[   1    5   25  125  625]\n",
      " [   1    6   36  216 1296]\n",
      " [   1    7   49  343 2401]\n",
      " [   1    8   64  512 4096]\n",
      " [   1    9   81  729 6561]] \n",
      "\n"
     ]
    }
   ],
   "source": [
    "# Qustion 3-Write a function so that the columns of the output matrix are powers of the input vector.\n",
    "# The order of the powers is determined by the increasing boolean argument. Specifically, when\n",
    "# increasing is False, the i-th output column is the input vector raised element-wise to the power\n",
    "# of N - i - 1.\n",
    "#Solution:\n",
    "import numpy as np \n",
    "def vander_matrix(input_vector, n, increasing=False):\n",
    "    \n",
    "    if not increasing:\n",
    "        output_matrix = np.array([x**(n-1-i) for x in input_vector for i in range(n)]).reshape(input_vector.size,n)\n",
    "    elif increasing:\n",
    "        output_matrix = np.array([x**i for x in input_vector for i in range(n)]).reshape(input_vector.size,n)\n",
    "    \n",
    "    return output_matrix\n",
    "l=[5,6,7,8,9]\n",
    "inputvector = np.array(l)\n",
    "output_matrix_decreasing_order = vander_matrix(inputvector,5,False)\n",
    "output_matrix_increasing_order = vander_matrix(inputvector,5,True)\n",
    "\n",
    "print(\"The input array is:\",inputvector,\"\\n\")\n",
    "print(\"Vander matrix of the input array in decreasing order of powers:\\n\\n\",output_matrix_decreasing_order,\"\\n\")\n",
    "print(\"Vander matrix of the input array in increasing order of powers:\\n\\n\",output_matrix_increasing_order,\"\\n\")\n"
   ]
  }
 ],
 "metadata": {
  "kernelspec": {
   "display_name": "Python 3",
   "language": "python",
   "name": "python3"
  },
  "language_info": {
   "codemirror_mode": {
    "name": "ipython",
    "version": 3
   },
   "file_extension": ".py",
   "mimetype": "text/x-python",
   "name": "python",
   "nbconvert_exporter": "python",
   "pygments_lexer": "ipython3",
   "version": "3.7.6"
  }
 },
 "nbformat": 4,
 "nbformat_minor": 4
}
